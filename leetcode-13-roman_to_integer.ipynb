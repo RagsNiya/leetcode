{
 "cells": [
  {
   "cell_type": "markdown",
   "metadata": {},
   "source": [
    "Converting a given roman numeral to an integer\n",
    "-This code does not account for the same numeral being repeated 4 times or above"
   ]
  },
  {
   "cell_type": "code",
   "execution_count": null,
   "metadata": {},
   "outputs": [
    {
     "name": "stdout",
     "output_type": "stream",
     "text": [
      "==>> roman_chars: [10, 10, 10, 10]\n",
      "==>> total: 10\n",
      "==>> total: 20\n",
      "==>> total: 30\n",
      "40\n"
     ]
    }
   ],
   "source": [
    "roman_to_int = {\"I\" : 1,\n",
    "                \"V\" : 5,\n",
    "                \"X\" : 10,\n",
    "                \"L\" : 50,\n",
    "                \"C\" : 100,\n",
    "                \"D\" : 500,\n",
    "                \"M\" : 1000}\n",
    "\n",
    "\n",
    "def roman_to_integer(roman_numeral):\n",
    "    total = 0\n",
    "    roman_chars = []\n",
    "    for char in roman_numeral:\n",
    "        if char in roman_to_int:\n",
    "            val = roman_to_int[char]\n",
    "            roman_chars.append(val)\n",
    "    for i in range(len(roman_chars)-1):\n",
    "        if roman_chars[i] < roman_chars[i+1]:\n",
    "            total -= roman_chars[i]\n",
    "        else:\n",
    "            total += roman_chars[i]\n",
    "    total += roman_chars[-1]\n",
    "    return total\n",
    "\n",
    "\n"
   ]
  },
  {
   "cell_type": "code",
   "execution_count": 37,
   "metadata": {},
   "outputs": [
    {
     "name": "stdout",
     "output_type": "stream",
     "text": [
      "==>> roman_chars: [1, 1, 1]\n",
      "==>> total: 1\n",
      "==>> total: 2\n",
      "3\n",
      "==>> roman_chars: [1, 5]\n",
      "==>> total: -1\n",
      "4\n",
      "==>> roman_chars: [1, 10]\n",
      "==>> total: -1\n",
      "9\n",
      "==>> roman_chars: [50, 5, 1, 1, 1]\n",
      "==>> total: 50\n",
      "==>> total: 55\n",
      "==>> total: 56\n",
      "==>> total: 57\n",
      "58\n",
      "==>> roman_chars: [1000, 100, 1000, 10, 100, 1, 5]\n",
      "==>> total: 1000\n",
      "==>> total: 900\n",
      "==>> total: 1900\n",
      "==>> total: 1890\n",
      "==>> total: 1990\n",
      "==>> total: 1989\n",
      "1994\n",
      "==>> roman_chars: [10, 10, 10, 10]\n",
      "==>> total: 10\n",
      "==>> total: 20\n",
      "==>> total: 30\n",
      "40\n",
      "==>> roman_chars: [10, 100]\n",
      "==>> total: -10\n",
      "90\n"
     ]
    }
   ],
   "source": [
    "#Testcases\n",
    "\n",
    "print(roman_to_integer(\"III\")) #3\n",
    "print(roman_to_integer(\"IV\")) #4\n",
    "print(roman_to_integer(\"IX\")) #9\n",
    "print(roman_to_integer(\"LVIII\")) #58\n",
    "print(roman_to_integer(\"MCMXCIV\")) #1994\n",
    "print(roman_to_integer(\"XXXX\")) #40\n",
    "print(roman_to_integer(\"XC\")) #90\n",
    "\n"
   ]
  }
 ],
 "metadata": {
  "kernelspec": {
   "display_name": "Python 3",
   "language": "python",
   "name": "python3"
  },
  "language_info": {
   "codemirror_mode": {
    "name": "ipython",
    "version": 3
   },
   "file_extension": ".py",
   "mimetype": "text/x-python",
   "name": "python",
   "nbconvert_exporter": "python",
   "pygments_lexer": "ipython3",
   "version": "3.13.2"
  }
 },
 "nbformat": 4,
 "nbformat_minor": 2
}

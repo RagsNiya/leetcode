{
 "cells": [
  {
   "cell_type": "markdown",
   "metadata": {},
   "source": [
    "Problem Statement:\n",
    "\n",
    "You are given a large integer represented as an integer array digits, where each digits[i] is the ith digit of the integer. The digits are ordered from most significant to least significant in left-to-right order. The large integer does not contain any leading 0's.\n",
    "\n",
    "Increment the large integer by one and return the resulting array of digits.\n",
    "\n",
    "Thought Process:\n",
    "Convert the list to string, then integer, add one and then clear the list and append the new value. "
   ]
  },
  {
   "cell_type": "code",
   "execution_count": null,
   "metadata": {},
   "outputs": [],
   "source": [
    "def plus_one(digits):\n",
    "    digits_str = \"\"\n",
    "    for elem in digits:\n",
    "        str_elem = str(elem)\n",
    "        digits_str = digits_str + str(elem)\n",
    "    digits_str = str(int(digits_str) + 1)\n",
    "    \n",
    "    digits=[]\n",
    "    for char in digits_str:\n",
    "        digits.append(char)\n",
    "\n",
    "    return digits\n"
   ]
  },
  {
   "cell_type": "code",
   "execution_count": null,
   "metadata": {},
   "outputs": [],
   "source": [
    "# Example Question 1\n",
    "\n",
    "print(plus_one([1,2,3]))\n",
    "\n",
    "# Expected Output: [1,2,4]"
   ]
  },
  {
   "cell_type": "code",
   "execution_count": null,
   "metadata": {},
   "outputs": [],
   "source": [
    "# Example Question 2\n",
    "\n",
    "print(plus_one([4,3,2,1]))\n",
    "\n",
    "#Expected Output: [4,3,2,2]"
   ]
  },
  {
   "cell_type": "code",
   "execution_count": 13,
   "metadata": {},
   "outputs": [
    {
     "name": "stdout",
     "output_type": "stream",
     "text": [
      "['1', '0']\n"
     ]
    }
   ],
   "source": [
    "# Example Question 3\n",
    "\n",
    "print(plus_one([9]))\n",
    "\n",
    "#Expected Output: [1,0]"
   ]
  }
 ],
 "metadata": {
  "kernelspec": {
   "display_name": "Python 3",
   "language": "python",
   "name": "python3"
  },
  "language_info": {
   "codemirror_mode": {
    "name": "ipython",
    "version": 3
   },
   "file_extension": ".py",
   "mimetype": "text/x-python",
   "name": "python",
   "nbconvert_exporter": "python",
   "pygments_lexer": "ipython3",
   "version": "3.13.2"
  }
 },
 "nbformat": 4,
 "nbformat_minor": 2
}

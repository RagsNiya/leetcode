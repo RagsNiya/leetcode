{
 "cells": [
  {
   "cell_type": "markdown",
   "metadata": {},
   "source": [
    "Leetcode Python Problem 26:\n",
    "Remove duplicated elements from the list, and add them to the end. \n",
    "Output the number of unique elements. There is no need to output [nums], but it will be checked\n",
    "\n",
    "Thought process:\n",
    "Converting the list to a set will give all the unique elements, then we can convert it to a list and append all other elements from there. "
   ]
  },
  {
   "cell_type": "code",
   "execution_count": null,
   "metadata": {},
   "outputs": [],
   "source": [
    "def remove_duplicates(nums):\n",
    "    unique_nums = set(nums)\n",
    "    list_unique_nums = list(unique_nums)\n",
    "    for element in list_unique_nums:\n",
    "        if element in nums:\n",
    "            nums.remove(element)\n",
    "    nums = list_unique_nums + nums\n",
    "    k = len(list_unique_nums)\n",
    "    return k\n"
   ]
  },
  {
   "cell_type": "code",
   "execution_count": null,
   "metadata": {},
   "outputs": [],
   "source": [
    "#Example 1:\n",
    "\n",
    "print(remove_duplicates([1,1,2]))\n",
    "\n",
    "#Expected output: k = 2, nums = [1,2,1]"
   ]
  },
  {
   "cell_type": "code",
   "execution_count": null,
   "metadata": {},
   "outputs": [],
   "source": [
    "#Example 2:\n",
    "\n",
    "print(remove_duplicates([0,0,1,1,1,2,2,3,3,4]))\n",
    "\n",
    "#Expected output: k = 5, nums = [0,1,2,3,4,0,1,1,2,3]"
   ]
  }
 ],
 "metadata": {
  "kernelspec": {
   "display_name": "Python 3",
   "language": "python",
   "name": "python3"
  },
  "language_info": {
   "codemirror_mode": {
    "name": "ipython",
    "version": 3
   },
   "file_extension": ".py",
   "mimetype": "text/x-python",
   "name": "python",
   "nbconvert_exporter": "python",
   "pygments_lexer": "ipython3",
   "version": "3.13.2"
  }
 },
 "nbformat": 4,
 "nbformat_minor": 2
}

{
 "cells": [
  {
   "cell_type": "markdown",
   "metadata": {},
   "source": []
  },
  {
   "cell_type": "code",
   "execution_count": null,
   "metadata": {},
   "outputs": [
    {
     "name": "stdout",
     "output_type": "stream",
     "text": [
      "noom eht ot em ylf\n",
      "4\n"
     ]
    }
   ],
   "source": [
    "def length_of_last_word(s):\n",
    "    reverse_s = s[::-1]\n",
    "    len_last = 0\n",
    "    reverse_s = reverse_s.strip(' ')\n",
    "    print(reverse_s)\n",
    "\n",
    "    for char in reverse_s:\n",
    "        if char != \" \":\n",
    "            len_last += 1\n",
    "        else:\n",
    "            break\n",
    "    return len_last \n"
   ]
  },
  {
   "cell_type": "code",
   "execution_count": null,
   "metadata": {},
   "outputs": [],
   "source": [
    "# Example Test 1:\n",
    "print(length_of_last_word(\"Hello World\"))\n",
    "# Expected Output: 5"
   ]
  },
  {
   "cell_type": "code",
   "execution_count": null,
   "metadata": {},
   "outputs": [],
   "source": [
    "# Example Test 2:\n",
    "print(length_of_last_word(\"   fly me to the moon  \"))\n",
    "# Expected Output: 4"
   ]
  },
  {
   "cell_type": "code",
   "execution_count": null,
   "metadata": {},
   "outputs": [],
   "source": [
    "# Example Test 3:\n",
    "print(length_of_last_word(\"luffy is still joyboy\"))\n",
    "# Expectec Output: 6"
   ]
  }
 ],
 "metadata": {
  "kernelspec": {
   "display_name": "Python 3",
   "language": "python",
   "name": "python3"
  },
  "language_info": {
   "codemirror_mode": {
    "name": "ipython",
    "version": 3
   },
   "file_extension": ".py",
   "mimetype": "text/x-python",
   "name": "python",
   "nbconvert_exporter": "python",
   "pygments_lexer": "ipython3",
   "version": "3.13.2"
  }
 },
 "nbformat": 4,
 "nbformat_minor": 2
}

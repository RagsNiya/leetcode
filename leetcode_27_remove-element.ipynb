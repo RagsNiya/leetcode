{
 "cells": [
  {
   "cell_type": "markdown",
   "metadata": {},
   "source": [
    "Leetcode Problem 27:\n",
    "Find the number of times a value has been entered in a list, and output that. \n",
    "Change the list so that every time the value occurs in the list, it is removed from its position and is added at the end. "
   ]
  },
  {
   "cell_type": "code",
   "execution_count": null,
   "metadata": {},
   "outputs": [],
   "source": [
    "def remove_element(nums, val):\n",
    "    k = 0\n",
    "    for element in nums:\n",
    "        if element == val:\n",
    "            nums.remove(element)\n",
    "            k += 1\n",
    "    for i in range(k):\n",
    "        nums.append(val)\n",
    "    return k\n"
   ]
  },
  {
   "cell_type": "code",
   "execution_count": null,
   "metadata": {},
   "outputs": [],
   "source": [
    "# Example 1:\n",
    "\n",
    "print(remove_element([3,2,2,3], 3))\n",
    "\n",
    "# Expected Output: k = 2, nums = [2,2,3,3]"
   ]
  },
  {
   "cell_type": "code",
   "execution_count": null,
   "metadata": {},
   "outputs": [],
   "source": [
    "# Example 2:\n",
    "\n",
    "print(remove_element([0,1,2,2,3,0,4,2], 2))\n",
    "\n",
    "# Expected Output: k = 5, nums = [0,1,4,0,3,5,5,5]"
   ]
  }
 ],
 "metadata": {
  "kernelspec": {
   "display_name": "Python 3",
   "language": "python",
   "name": "python3"
  },
  "language_info": {
   "codemirror_mode": {
    "name": "ipython",
    "version": 3
   },
   "file_extension": ".py",
   "mimetype": "text/x-python",
   "name": "python",
   "nbconvert_exporter": "python",
   "pygments_lexer": "ipython3",
   "version": "3.13.2"
  }
 },
 "nbformat": 4,
 "nbformat_minor": 2
}

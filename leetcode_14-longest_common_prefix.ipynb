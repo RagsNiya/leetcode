{
 "cells": [
  {
   "cell_type": "markdown",
   "metadata": {},
   "source": [
    "Problem Statement:\n",
    "Finding the longest prefix in all of the strings"
   ]
  },
  {
   "cell_type": "code",
   "execution_count": null,
   "metadata": {},
   "outputs": [
    {
     "name": "stdout",
     "output_type": "stream",
     "text": [
      "fl\n"
     ]
    }
   ],
   "source": [
    "def longest_common_prefix(list_of_strings):\n",
    "    final_prefix = \"\"\n",
    "    first_element = list_of_strings[0]\n",
    "\n",
    "    for i in range(len(first_element)):\n",
    "        character = first_element[i]\n",
    "\n",
    "        for string in list_of_strings:\n",
    "            if i >= len(string) or string[i] != character:\n",
    "                return final_prefix\n",
    "        final_prefix += character\n",
    "\n",
    "    return final_prefix          \n",
    "    \n",
    "    \n",
    "\n"
   ]
  },
  {
   "cell_type": "code",
   "execution_count": null,
   "metadata": {},
   "outputs": [],
   "source": [
    "print(longest_common_prefix([\"flower\", \"flow\", \"flight\"]))\n",
    "\n",
    "#Expected output: \"fl\""
   ]
  },
  {
   "cell_type": "code",
   "execution_count": null,
   "metadata": {},
   "outputs": [],
   "source": [
    "print(longest_common_prefix([\"dog\", \"racecar\", \"car\"]))\n",
    "\n",
    "#Expected output: \"\""
   ]
  }
 ],
 "metadata": {
  "kernelspec": {
   "display_name": "Python 3",
   "language": "python",
   "name": "python3"
  },
  "language_info": {
   "codemirror_mode": {
    "name": "ipython",
    "version": 3
   },
   "file_extension": ".py",
   "mimetype": "text/x-python",
   "name": "python",
   "nbconvert_exporter": "python",
   "pygments_lexer": "ipython3",
   "version": "3.13.2"
  }
 },
 "nbformat": 4,
 "nbformat_minor": 2
}

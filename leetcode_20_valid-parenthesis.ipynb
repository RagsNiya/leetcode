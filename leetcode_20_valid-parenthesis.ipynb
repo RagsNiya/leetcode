{
 "cells": [
  {
   "cell_type": "markdown",
   "metadata": {},
   "source": [
    "Problem Statement:\n",
    "Any open brackets must be closed appropriately, like in a expression or equation so it is understandable.\n",
    "\n",
    "Thought process:\n",
    "Create an empty list where all open brackets are appended. These brackets will be removed when they are closed appropriately. "
   ]
  },
  {
   "cell_type": "code",
   "execution_count": null,
   "metadata": {},
   "outputs": [
    {
     "name": "stdout",
     "output_type": "stream",
     "text": [
      "True\n"
     ]
    }
   ],
   "source": [
    "def valid_parenthesis(s):\n",
    "    pairs = {\"{\": \"}\", \"(\": \")\", \"[\": \"]\"}\n",
    "    is_valid = False\n",
    "    if not s:\n",
    "        return True\n",
    "    open_parenthesis_list = [s[0]]\n",
    "    for elem in s[1:]:\n",
    "        if open_parenthesis_list != [] and  elem == pairs[open_parenthesis_list[-1]]:\n",
    "            open_parenthesis_list.pop()\n",
    "        else:\n",
    "            open_parenthesis_list += elem\n",
    "    if open_parenthesis_list == []:\n",
    "        is_valid = True\n",
    "    return is_valid"
   ]
  },
  {
   "cell_type": "code",
   "execution_count": 38,
   "metadata": {},
   "outputs": [
    {
     "name": "stdout",
     "output_type": "stream",
     "text": [
      "True\n"
     ]
    }
   ],
   "source": [
    "# Test Case 1:\n",
    "print(valid_parenthesis(\"()\"))\n",
    "#Expected Output: True"
   ]
  },
  {
   "cell_type": "code",
   "execution_count": 39,
   "metadata": {},
   "outputs": [
    {
     "name": "stdout",
     "output_type": "stream",
     "text": [
      "True\n"
     ]
    }
   ],
   "source": [
    "#Test Case 2:\n",
    "print(valid_parenthesis(\"()[]{}\"))\n",
    "#Expected Output: True"
   ]
  },
  {
   "cell_type": "code",
   "execution_count": 40,
   "metadata": {},
   "outputs": [
    {
     "name": "stdout",
     "output_type": "stream",
     "text": [
      "False\n"
     ]
    }
   ],
   "source": [
    "#Test Case 3:\n",
    "print(valid_parenthesis(\"(]\"))\n",
    "#Expected Output: False"
   ]
  },
  {
   "cell_type": "code",
   "execution_count": 41,
   "metadata": {},
   "outputs": [
    {
     "name": "stdout",
     "output_type": "stream",
     "text": [
      "True\n"
     ]
    }
   ],
   "source": [
    "#Test Case 4:\n",
    "print(valid_parenthesis(\"([])\"))\n",
    "#Expected Output: True"
   ]
  }
 ],
 "metadata": {
  "kernelspec": {
   "display_name": "Python 3",
   "language": "python",
   "name": "python3"
  },
  "language_info": {
   "codemirror_mode": {
    "name": "ipython",
    "version": 3
   },
   "file_extension": ".py",
   "mimetype": "text/x-python",
   "name": "python",
   "nbconvert_exporter": "python",
   "pygments_lexer": "ipython3",
   "version": "3.13.2"
  }
 },
 "nbformat": 4,
 "nbformat_minor": 2
}

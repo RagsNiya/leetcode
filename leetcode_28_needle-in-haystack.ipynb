{
 "cells": [
  {
   "cell_type": "markdown",
   "metadata": {},
   "source": [
    "Problem Statement: \n",
    "Find a string in a given string. If it is present, return the index, but if it is not present, return -1 as the index. "
   ]
  },
  {
   "cell_type": "code",
   "execution_count": null,
   "metadata": {},
   "outputs": [],
   "source": [
    "def needle_in_haystack(needle, haystack):\n",
    "    index = haystack.find(needle)\n",
    "    return index"
   ]
  },
  {
   "cell_type": "code",
   "execution_count": null,
   "metadata": {},
   "outputs": [],
   "source": [
    "# Example 1: \n",
    "\n",
    "print(needle_in_haystack(\"sad\", \"sadbutsad\"))\n",
    "\n",
    "# Expected Output: 0"
   ]
  },
  {
   "cell_type": "code",
   "execution_count": null,
   "metadata": {},
   "outputs": [],
   "source": [
    "# Example 2: \n",
    "\n",
    "print(needle_in_haystack(\"leeto\",\"leetcode\"))\n",
    "\n",
    "# Expected Output: -1"
   ]
  }
 ],
 "metadata": {
  "kernelspec": {
   "display_name": "Python 3",
   "language": "python",
   "name": "python3"
  },
  "language_info": {
   "codemirror_mode": {
    "name": "ipython",
    "version": 3
   },
   "file_extension": ".py",
   "mimetype": "text/x-python",
   "name": "python",
   "nbconvert_exporter": "python",
   "pygments_lexer": "ipython3",
   "version": "3.13.1"
  }
 },
 "nbformat": 4,
 "nbformat_minor": 2
}
